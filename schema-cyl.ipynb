{
 "cells": [
  {
   "cell_type": "markdown",
   "id": "4337872a-449f-44f9-8d42-a25df9470344",
   "metadata": {},
   "source": [
    "# "
   ]
  },
  {
   "cell_type": "code",
   "execution_count": 7,
   "id": "2d9ece01-69ba-4786-962f-a23742134983",
   "metadata": {},
   "outputs": [
    {
     "name": "stdout",
     "output_type": "stream",
     "text": [
      "✅ Archivo convertido y guardado en patentes_convertidas.json\n"
     ]
    }
   ],
   "source": [
    "import pandas as pd\n",
    "import json\n",
    "\n",
    "# === CONFIG ===\n",
    "INPUT_FILE = \"patentes-limpio-v3.xlsx\"   # Nombre de tu archivo Excel\n",
    "OUTPUT_FILE = \"patentes_convertidas.json\"  # Salida en JSON\n",
    "\n",
    "# === MAPEADO ENTRE COLUMNAS DEL EXCEL Y NUEVO SCHEMA ===\n",
    "column_mapping = {\n",
    "    \"Universidad de origen\": \"Universidad de origen\",\n",
    "    \"Título de la patente\": \"Titulo de la patente\",\n",
    "    \"Nº referencia de la solicitud\": \"Numero de referencia de la solicitud\",\n",
    "    \"Tipo\": \"Tipo\",\n",
    "    \"Autores\": \"Autores\",\n",
    "    \"Titular de los derechos\": \"Titular de los derechos\",\n",
    "    \"Fecha solicitud\": \"Fecha de solicitud\",\n",
    "    \"Denegada\": \"Denegada\",\n",
    "    \"Concedida\": \"Concedida\",\n",
    "    \"Abandonada\": \"Abandonada\",\n",
    "    \"Breve Descripción/Resumen\": \"Breve descripción/Resumen\",\n",
    "    \"Palabras Clave\": \"Palabras Clave\",\n",
    "    \"País/es de prioridad\": \"Pais de prioridad\",\n",
    "    \"Área Nacional\": \"Area Nacional\",\n",
    "    \"Área Europea\": \"Area Europea\",\n",
    "    \"Área PCT (Tratado de Cooperación en materia de Patentes)\": \"Area PCT\",\n",
    "    \"Otros (especificar)\": \"Otros\",\n",
    "    \"Estudio previo (si/no)\": \"Estudio previo\",\n",
    "    \"Plan de comecialización (si/no)\": \"Plan de comercializacion\",\n",
    "    \"Plan de negocio (si/no)\": \"Plan de negocio\"\n",
    "}\n",
    "\n",
    "# === LECTURA DEL EXCEL ===\n",
    "df = pd.read_excel(INPUT_FILE)\n",
    "\n",
    "# Renombrar columnas al nuevo esquema\n",
    "df = df.rename(columns=column_mapping)\n",
    "\n",
    "# Quedarnos solo con las columnas que estén en el mapping\n",
    "cols_existentes = [col for col in column_mapping.values() if col in df.columns]\n",
    "df = df[cols_existentes]\n",
    "\n",
    "# Reemplazar valores vacíos con \"No disponible\"\n",
    "df = df.fillna(\"No disponible\")\n",
    "\n",
    "# Convertir fechas a string (dd/mm/yyyy)\n",
    "if \"Fecha de solicitud\" in df.columns:\n",
    "    df[\"Fecha de solicitud\"] = pd.to_datetime(df[\"Fecha de solicitud\"], errors=\"coerce\")\n",
    "    df[\"Fecha de solicitud\"] = df[\"Fecha de solicitud\"].apply(\n",
    "        lambda x: x.strftime(\"%d/%m/%Y\") if pd.notnull(x) else \"No disponible\"\n",
    "    )\n",
    "\n",
    "# Convertir a lista de diccionarios\n",
    "data = df.to_dict(orient=\"records\")\n",
    "\n",
    "# Guardar en JSON\n",
    "with open(OUTPUT_FILE, \"w\", encoding=\"utf-8\") as f:\n",
    "    json.dump(data, f, indent=2, ensure_ascii=False)\n",
    "\n",
    "print(f\"✅ Archivo convertido y guardado en {OUTPUT_FILE}\")\n"
   ]
  },
  {
   "cell_type": "code",
   "execution_count": null,
   "id": "695dcc1c-65b2-4792-8454-eca19ab97420",
   "metadata": {},
   "outputs": [],
   "source": []
  },
  {
   "cell_type": "code",
   "execution_count": null,
   "id": "495edd8b",
   "metadata": {},
   "outputs": [],
   "source": []
  }
 ],
 "metadata": {
  "kernelspec": {
   "display_name": "Python 3 (ipykernel)",
   "language": "python",
   "name": "python3"
  },
  "language_info": {
   "codemirror_mode": {
    "name": "ipython",
    "version": 3
   },
   "file_extension": ".py",
   "mimetype": "text/x-python",
   "name": "python",
   "nbconvert_exporter": "python",
   "pygments_lexer": "ipython3",
   "version": "3.9.7"
  }
 },
 "nbformat": 4,
 "nbformat_minor": 5
}
